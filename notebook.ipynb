{
 "cells": [
  {
   "cell_type": "markdown",
   "metadata": {},
   "source": [
    "<a href=\"https://www.python.org\">\n",
    "    <img src=\"https://icon-icons.com/icons2/2107/PNG/128/file_type_python_icon_130221.png\" alt=\"Python logo\" title=\"Python\" align=\"right\" height=\"72\"/>\n",
    "</a>\n",
    "\n",
    "## Cuaderno del Taller introductorio a Python\n",
    "\n",
    "---\n",
    "\n",
    "**📅 Agenda de trabajo:**\n",
    "\n",
    "* Día 1:\n",
    "    * ¿Qué es Python?\n",
    "    * Variables y tipos de datos.\n",
    "    * Funciones.\n",
    "* Día 2:\n",
    "    * Estructuras de selección.\n",
    "    * Bucles.\n",
    "* Día 3:\n",
    "    * POO.\n",
    "    * GUI.\n",
    "\n",
    "<br>\n",
    "\n",
    "**👨‍💼 Colaboradores**\n",
    "* [Gabriela Guevara Mora]() | <small>Docente - UCR</small>\n",
    "* [Jeison Araya Mena](https://github.com/jeison-araya \"Github profile\") | <small>Estudiante de Informática Empresarial - UCR</small>\n",
    "* [Ian Ondoy Quirós](https://github.com/IanOQ \"Github profile\") | <small>Estudiante de Informática Empresarial - UCR</small>\n"
   ]
  },
  {
   "cell_type": "code",
   "execution_count": 1,
   "metadata": {},
   "outputs": [
    {
     "output_type": "stream",
     "name": "stdout",
     "text": [
      "Taller Introductorio a Python.\n"
     ]
    }
   ],
   "source": [
    "print('Taller Introductorio a Python.')"
   ]
  },
  {
   "cell_type": "markdown",
   "metadata": {},
   "source": [
    "📌 Día 1:\n",
    "\n",
    "---"
   ]
  },
  {
   "cell_type": "markdown",
   "metadata": {
    "jupyter": {
     "source_hidden": true
    },
    "tags": []
   },
   "source": [
    "# Primer ejemplo en Python\n",
    "## Primer ejemplo e Python"
   ]
  },
  {
   "cell_type": "code",
   "execution_count": 2,
   "metadata": {},
   "outputs": [
    {
     "output_type": "stream",
     "name": "stdout",
     "text": [
      "Hola mundo\nHola mundo\n"
     ]
    }
   ],
   "source": [
    "#Esto es un comentario simple en Python\n",
    "'''Esto es un comentario múltiple en Python'''\n",
    "#\"\"\" \"\"\" tres comillas dobles se utiliza para docstrings\n",
    "print('Hola mundo')\n",
    "print(\"Hola mundo\")"
   ]
  },
  {
   "cell_type": "markdown",
   "metadata": {},
   "source": [
    "<h3>Variables y tipos de datos</h3>"
   ]
  },
  {
   "cell_type": "code",
   "execution_count": 3,
   "metadata": {
    "tags": []
   },
   "outputs": [
    {
     "output_type": "stream",
     "name": "stdout",
     "text": [
      "Número:  29\n¡Hola!\n56.78\n¿Estado? False\nComentario con \nmúltiples línea\na\nTipo:  <class 'int'> 5\nTipo:  <class 'float'> 5.0\n"
     ]
    }
   ],
   "source": [
    "#Ejemplo de variable entera (tipo int).\n",
    "variable_uno = 29\n",
    "print (\"Número: \",variable_uno)\n",
    "\n",
    "#Ejemplo cadena (String)\n",
    "cadena = \"¡Hola!\"\n",
    "print (cadena)\n",
    "\n",
    "#Ejemplo decimal\n",
    "variable_dos = 56.78\n",
    "print(variable_dos)\n",
    "\n",
    "#Ejemplo booleanos\n",
    "activo = False\n",
    "print(\"¿Estado?\" ,activo)\n",
    "\n",
    "#Ejemplo String múltiples líneas\n",
    "cadena_dos = \"\"\"Comentario con \n",
    "múltiples línea\"\"\"\n",
    "print(cadena_dos)\n",
    "\n",
    "activo = 'a'\n",
    "print (activo)\n",
    "\n",
    "\n",
    "# Diferencia entre Enteros y Flotantes.\n",
    "\n",
    "entero = 5\n",
    "flotante = 5.0\n",
    "\n",
    "print('Tipo: ', type(entero), entero)\n",
    "print('Tipo: ', type(flotante), flotante)"
   ]
  },
  {
   "cell_type": "markdown",
   "metadata": {},
   "source": [
    "<h3>Manejo de Strings</h3>"
   ]
  },
  {
   "cell_type": "code",
   "execution_count": 4,
   "metadata": {
    "tags": []
   },
   "outputs": [
    {
     "output_type": "stream",
     "name": "stdout",
     "text": [
      "¿Y los billletes? NO\n¿Y los billletes?¿Y los billletes?¿Y los billletes? NONONONO\n¿Y los billletes?¿Y los billletes?¿Y los billletes?No hay\n"
     ]
    }
   ],
   "source": [
    "#Ejemplos de Strings\n",
    "\n",
    "#Concatenar\n",
    "cadena = \"¿Y los billletes?\"\n",
    "cadena_dos = \"NO\"\n",
    "print(cadena+\" \"+cadena_dos)\n",
    "\n",
    "#Multiplicar\n",
    "cadena = \"¿Y los billletes?\"*3\n",
    "cadena_dos = \"NO\"*4\n",
    "print(cadena+\" \"+cadena_dos)\n",
    "\n",
    "#Añadir/acumular\n",
    "cadena = \"¿Y los billletes?\"*3\n",
    "cadena += \"No hay\"\n",
    "print(cadena)"
   ]
  },
  {
   "cell_type": "code",
   "execution_count": 5,
   "metadata": {},
   "outputs": [
    {
     "output_type": "stream",
     "name": "stdout",
     "text": [
      "11\n",
      "HELLO WORLD\n",
      "hello world\n",
      "Bye World\n",
      "ell\n"
     ]
    },
    {
     "output_type": "error",
     "ename": "ValueError",
     "evalue": "substring not found",
     "traceback": [
      "\u001b[1;31m---------------------------------------------------------------------------\u001b[0m",
      "\u001b[1;31mValueError\u001b[0m                                Traceback (most recent call last)",
      "\u001b[1;32m<ipython-input-5-c096d46bd291>\u001b[0m in \u001b[0;36m<module>\u001b[1;34m\u001b[0m\n\u001b[0;32m     21\u001b[0m \u001b[1;33m\u001b[0m\u001b[0m\n\u001b[0;32m     22\u001b[0m \u001b[1;31m#Traer un caracter\u001b[0m\u001b[1;33m\u001b[0m\u001b[1;33m\u001b[0m\u001b[1;33m\u001b[0m\u001b[0m\n\u001b[1;32m---> 23\u001b[1;33m \u001b[0mcadena\u001b[0m \u001b[1;33m=\u001b[0m \u001b[0mcadena\u001b[0m\u001b[1;33m.\u001b[0m\u001b[0mrindex\u001b[0m\u001b[1;33m(\u001b[0m\u001b[1;34m'b'\u001b[0m\u001b[1;33m)\u001b[0m \u001b[1;31m#Daría error, pues no está en el String\u001b[0m\u001b[1;33m\u001b[0m\u001b[1;33m\u001b[0m\u001b[0m\n\u001b[0m\u001b[0;32m     24\u001b[0m \u001b[0mcadena\u001b[0m \u001b[1;33m=\u001b[0m \u001b[0mcadena\u001b[0m\u001b[1;33m.\u001b[0m\u001b[0mrindex\u001b[0m\u001b[1;33m(\u001b[0m\u001b[1;34m'l'\u001b[0m\u001b[1;33m)\u001b[0m\u001b[1;33m\u001b[0m\u001b[1;33m\u001b[0m\u001b[0m\n\u001b[0;32m     25\u001b[0m \u001b[0mprint\u001b[0m\u001b[1;33m(\u001b[0m\u001b[0mcadena\u001b[0m\u001b[1;33m)\u001b[0m\u001b[1;33m\u001b[0m\u001b[1;33m\u001b[0m\u001b[0m\n",
      "\u001b[1;31mValueError\u001b[0m: substring not found"
     ]
    }
   ],
   "source": [
    "#Biblioteca de métodos String\n",
    "\n",
    "#Tamaño del String\n",
    "cadena = \"Hello World\"\n",
    "print(len(cadena))\n",
    "\n",
    "#Buscar\n",
    "#cadena.find(\"b\") #Retornaría -1, pues b no está en la cadena\n",
    "cadena.find(\"h\") #Retorna -1, pues h es diferente de H en términos ASCII\n",
    "\n",
    "#Mayúscula/Minúscula\n",
    "print(cadena.upper())\n",
    "print (cadena.lower())\n",
    "\n",
    "#Reeemplazar\n",
    "print(cadena.replace(\"Hello\",\"Bye\"))\n",
    "\n",
    "#Substring/Cortar\n",
    "cadena = cadena[1:4]\n",
    "print(cadena)\n",
    "\n",
    "#Traer un caracter\n",
    "cadena = cadena.rindex('b') #Daría error, pues no está en el String\n",
    "cadena = cadena.rindex('l')\n",
    "print(cadena)"
   ]
  },
  {
   "cell_type": "markdown",
   "metadata": {},
   "source": [
    "<h1>Operadores Aritmeticos</h1>"
   ]
  },
  {
   "cell_type": "markdown",
   "metadata": {},
   "source": [
    "![OperadoresAritméticosPython](static\\operadores_aritmeticos_python.png)"
   ]
  },
  {
   "cell_type": "markdown",
   "metadata": {},
   "source": [
    "<h5>Ejercicio</h5> <br>\n",
    "Calcular y mostrar la potencia de 8^3"
   ]
  },
  {
   "cell_type": "code",
   "execution_count": null,
   "metadata": {},
   "outputs": [],
   "source": [
    "valor_uno = 8\n",
    "valor_dos 3\n"
   ]
  },
  {
   "cell_type": "code",
   "execution_count": 71,
   "metadata": {},
   "outputs": [
    {
     "name": "stdout",
     "output_type": "stream",
     "text": [
      "Día de la fecha  23\n",
      "Mes de la fecha  Febrero\n",
      "Estado civil  False\n",
      "Fecha de nacimiento  (22, 'Abril')\n",
      "Tamaño de la tupla: tupla_datosEstud  4\n",
      "Tamaño de la subtupla de la tupla  3\n"
     ]
    }
   ],
   "source": [
    "#Ejemplos del uso de tuplas\n",
    "\n",
    "#Determinar en una tupla una fecha día, mes, año - númerico,texto,númerico\n",
    "#Son inmutables, sus valores no pueden ser modificados\n",
    "\n",
    "tupla_fecha = (23, \"Febrero\", 2021) \n",
    "\n",
    "print(\"Día de la fecha \", tupla_fecha[0])\n",
    "print(\"Mes de la fecha \", tupla_fecha[1])\n",
    "\n",
    "#tupla_fecha[0] = 12 #Provoca error porque no puede cambiar el elemento en una tupla\n",
    "\n",
    "#edad, nombre, peso, estadoCivil(T o F)\n",
    "tupla_persona = (23, \"Héctor\", 25.87, False)\n",
    "\n",
    "print(\"Estado civil \", tupla_persona[3])\n",
    "#print(tupla_persona[5]) #Provoca un error dado que el índice no existe\n",
    "\n",
    "#Es posible anidar tuplas en Python\n",
    "\n",
    "#carne, nombre, apellidos (día, mes, año_nacimiento)\n",
    "\n",
    "tupla_estudiante = (\"C010256\", \"Miguel\", \"Sánchez\",(22, \"Abril\", 1985))\n",
    "\n",
    "print(\"Fecha de nacimiento \", tupla_estudiante[3][:2])\n",
    "\n",
    "#Mostrar por salida, lo siguiente:\n",
    "#Para el estudiante Miguel el día y mes de nacimiento es 22 el de abril\n",
    "\n",
    "#¿Cuál es la longitud de (89766, \"Alicia\", \"Hacker\", (9, \"Julio\", 1988))?\n",
    "\n",
    "tupla_datosEstud = (89766, \"Alicia\", \"Hacker\", (9, \"Julio\", 1988))\n",
    "\n",
    "print(\"Tamaño de la tupla: tupla_datosEstud \", len(tupla_datosEstud))\n",
    "\n",
    "print(\"Tamaño de la subtupla de la tupla \", len(tupla_datosEstud[3]))"
   ]
  },
  {
   "cell_type": "markdown",
   "metadata": {},
   "source": [
    "📌 Día 2:\n",
    "\n",
    "---"
   ]
  },
  {
   "cell_type": "code",
   "execution_count": 85,
   "metadata": {},
   "outputs": [
    {
     "name": "stdout",
     "output_type": "stream",
     "text": [
      "Cuenta la cantidad de veces que esta Python en la tupla  2\n",
      "Retorna el indice en el que se encuentra el elemento True 2\n",
      "Indice  0 Elemento:  Python\n",
      "Ejemplo Tupla\n",
      "Indice  1 Elemento:  25\n",
      "Ejemplo Tupla\n",
      "Indice  2 Elemento:  True\n",
      "Ejemplo Tupla\n",
      "Indice  3 Elemento:  Python\n",
      "Ejemplo Tupla\n",
      "Indice  4 Elemento:  58.2\n",
      "Ejemplo Tupla\n",
      "Taller python, uso tuplas\n"
     ]
    }
   ],
   "source": [
    "#Ejemplo del uso tuplas\n",
    "\n",
    "tupla_Elementos = (\"Python\", 25, True, \"Python\", 58.2)\n",
    "\n",
    "print(\"Cuenta la cantidad de veces que esta Python en la tupla \", tupla_Elementos.count(\"Python\"))\n",
    "\n",
    "print(\"Retorna el indice en el que se encuentra el elemento True\", tupla_Elementos.index(True))\n",
    "\n",
    "#tupla_Elementos[0] = \"Gabriela\" #Provoca error dado que el contenido de la lista no puede cambiar\n",
    "\n",
    "#Mostrar los elementos contenidos en la tupla\n",
    "for i in range(0, len(tupla_Elementos)):\n",
    "    print(\"Indice \", i, \"Elemento: \", tupla_Elementos[i])\n",
    "    print(\"Ejemplo Tupla\")\n",
    "\n",
    "print(\"Taller python, uso tuplas\")"
   ]
  },
  {
   "cell_type": "markdown",
   "metadata": {},
   "source": [
    "# Listas en python\n",
    "\n",
    "\n",
    "## Caraterísticas de las listas:\n",
    "* Es mutable.\n",
    "* Permite representa muchas de estructuras de datos: Colas, Lista prioridad\n",
    "\n",
    "<a href=\"https://docs.python.org/3/tutorial/datastructures.html\">Documentacion</a>"
   ]
  },
  {
   "cell_type": "code",
   "execution_count": 152,
   "metadata": {
    "tags": []
   },
   "outputs": [
    {
     "name": "stdout",
     "output_type": "stream",
     "text": [
      "Contenido en la posición 0 es: 1\n",
      "Tipo de dato en la posición 0 es: <class 'int'>\n",
      "Recorrido inverso de lista:  [10, 9, 8, 7, 6, 5, 4, 3, 2, 1]\n",
      "Contenido de la lista:  [20, 1, 2, 3, 4, 5, 30, 6, 7, 8, 9, 10, 11, 12, 100, 200, 1]\n",
      "Contenido de la lista:  [20, 1, 2, 3, 4, 5, 30, 6, 7, 8, 9, 10, 11, 12, 100, 200, 1]\n",
      "Contenido de la lista ordenada:  [20, 1, 2, 3, 4, 5, 30, 6, 7, 8, 9, 11, 12, 100, 200, 1]\n",
      "ian\n",
      "ana\n",
      "liz\n",
      "ian\n",
      "ana\n",
      "liz\n",
      "El usuario ian está en la posición 0\n",
      "El usuario ana está en la posición 1\n",
      "El usuario liz está en la posición 2\n"
     ]
    }
   ],
   "source": [
    "##### Declarar una lista.\n",
    "\n",
    "lista_vacia = []\n",
    "lista = [1, 3.5, 'Hola', [2, 3], True, (\"Inicio sesión\", \"Miguel\", \"Sánchez\",(22, \"Abril\", 1985), '8:55:00')]\n",
    "lista_dos = list([1, 3.5, 'Hola', [2, 3], True])\n",
    "\n",
    "\n",
    "# Acceder a elementos de una lista.\n",
    "\n",
    "print('Contenido en la posición 0 es:', lista[0])\n",
    "print('Tipo de dato en la posición 0 es:', type(lista[0]))\n",
    "#print('Contenido en la posición 1 es:', lista[1])\n",
    "#print('Contenido en la posición 2 es:', lista[2])\n",
    "#print('Contenido en la posición 3 es:', lista[3])\n",
    "#print('Contenido en la posición 5 es:', lista[5])\n",
    "#print('Contenido en la posición último es:', lista[-1])\n",
    "#print('Contenido en la posición penulúltimo es:', lista[-2])\n",
    "\n",
    "# Acceder a rangos de elementos.\n",
    "\n",
    "#print('Elementos de 0 hasta 3: ', lista[0:4])\n",
    "\n",
    "# Traer los elementos del 3 hasta el final.\n",
    "\n",
    "#print('Elementos de 3 hasta final: ', lista[3:])\n",
    "\n",
    "\n",
    "lista_numeros = [1, 2, 3, 4, 5, 6, 7, 8, 9, 10]\n",
    "\n",
    "print('Recorrido inverso de lista: ', lista_numeros[::-1])\n",
    "\n",
    "# Cambiar valores\n",
    "\n",
    "#lista_numeros[0] = 11\n",
    "\n",
    "# Funciones:\n",
    "\n",
    "# append(x)\n",
    "\n",
    "lista_numeros.append(11)\n",
    "lista_numeros.append(12)\n",
    "\n",
    "# insert(idx, x)\n",
    "\n",
    "lista_numeros.insert(0, 20)\n",
    "lista_numeros.insert(6, 30)\n",
    "\n",
    "# extend(iterable)\n",
    "\n",
    "lista_numeros.extend([100, 200, 1])\n",
    "\n",
    "print('Contenido de la lista: ', lista_numeros)\n",
    "\n",
    "# Ejercicio: Solicite al usuario ingresar un elemento y el indice para poder agregarlo en la lista.\n",
    "\n",
    "#elemento = input('Ingrese un elemento: ')\n",
    "#indice = int(input('Ingrese el índice donde se agregará el elemento: '))\n",
    "\n",
    "#lista_numeros.insert(indice, elemento)\n",
    "\n",
    "print('Contenido de la lista: ', lista_numeros)\n",
    "\n",
    "# sort() Ordena la lista\n",
    "\n",
    "#lista_numeros.sort()\n",
    "#lista_numeros.sort(reverse=True)\n",
    "\n",
    "# remove(x)\n",
    "\n",
    "lista_numeros.remove(10)\n",
    "\n",
    "# clear()\n",
    "\n",
    "#lista_numeros.clear()\n",
    "\n",
    "print('Contenido de la lista ordenada: ', lista_numeros)\n",
    "\n",
    "\n",
    "usuarios = [\"ian\", \"ana\", \"liz\"]\n",
    "\n",
    "for i in range(0, len(usuarios)):\n",
    "    print(usuarios[i])\n",
    "\n",
    "for usuario in usuarios:\n",
    "    print(usuario)\n",
    "    \n",
    "for posicion, usuario in enumerate(usuarios):\n",
    "    print('El usuario {} está en la posición {}'.format(usuario, posicion))\n",
    "    \n",
    "    \n",
    "# Ejercicio: Declarar una lista de 5 números decimales ingresados por el usuario. Debe mostrar la lista\n",
    "# y determinar la suma de los elementos de la lista."
   ]
  },
  {
   "cell_type": "markdown",
   "metadata": {},
   "source": [
    "<h1>Diccionarios</h1>"
   ]
  },
  {
   "cell_type": "code",
   "execution_count": 164,
   "metadata": {},
   "outputs": [
    {
     "name": "stdout",
     "output_type": "stream",
     "text": [
      "4\n",
      "dict_items([('curso', 'Programación'), ('créditos', 4), ('temas', ('Python', 'Java', 'JavaScript')), ('evaluaciones', ['Examen 1', 'Examen 2'])])\n",
      "dict_keys(['curso', 'créditos', 'temas', 'evaluaciones'])\n",
      "dict_values(['Programación', 4, ('Python', 'Java', 'JavaScript'), ['Examen 1', 'Examen 2']])\n",
      "Programación\n"
     ]
    }
   ],
   "source": [
    "#Son contenedores de datos al igual que las tuplas y listas.\n",
    "# {clave : valor}\n",
    "diccionario = {\n",
    "    \"curso\" : \"Programación\", \n",
    "    \"créditos\" : 4, \n",
    "    \"temas\" : (\"Python\", \"Java\",\"JavaScript\"),\n",
    "    \"evaluaciones\" : [\"Examen 1\", \"Examen 2\"]\n",
    "}\n",
    "\n",
    "#Para imprimir un elemento\n",
    "print(diccionario[\"créditos\"])\n",
    "\n",
    "#Recorrer un diccionario\n",
    "#for key in diccionario:\n",
    " # print (key, \":\", diccionario[key])\n",
    "\n",
    "#Traer elementos\n",
    "print(diccionario.items())\n",
    "print(diccionario.keys())\n",
    "print(diccionario.values())\n",
    "\n",
    "#Agregar un nuevo valor\n",
    "diccionario[\"horas\"] = 4\n",
    "#print(diccionario)\n",
    "\n",
    "#Eliminar un valor\n",
    "print(diccionario.pop('curso'))\n"
   ]
  },
  {
   "cell_type": "markdown",
   "metadata": {},
   "source": [
    "![Comparativo Estructuras de datos](static\\comparativo_estructuras_de_datos.png)"
   ]
  },
  {
   "cell_type": "markdown",
   "metadata": {},
   "source": [
    "<h3>Funciones</h3>"
   ]
  },
  {
   "cell_type": "code",
   "execution_count": 192,
   "metadata": {},
   "outputs": [
    {
     "name": "stdout",
     "output_type": "stream",
     "text": [
      "Hola Jeison Araya edad: 0\n",
      "Hola Jeison Araya edad: 20\n"
     ]
    },
    {
     "name": "stdin",
     "output_type": "stream",
     "text": [
      "Ingrese el color del semáforo:  morado\n"
     ]
    },
    {
     "name": "stdout",
     "output_type": "stream",
     "text": [
      "Color no válido.\n"
     ]
    }
   ],
   "source": [
    "# Estructura de función simple\n",
    "\n",
    "def saludar():\n",
    "    # Aquí va el código de la función.\n",
    "    print('Hola')\n",
    "    # más codigo...\n",
    "    \n",
    "def saludar(nombre):\n",
    "    print('Hola', nombre)\n",
    "    \n",
    "def saludar(nombre, apellido, edad=0):\n",
    "    print('Hola', nombre, apellido, 'edad:', edad)\n",
    "      \n",
    "# **No pertence a la función saludar.\n",
    "\n",
    "# Definición de función main().\n",
    "if __name__ == \"__main__\":\n",
    "    # Ejecutar la función.\n",
    "    #saludar('Jeison') # Funcion con parámetros.\n",
    "    # Parametros por posición.\n",
    "    saludar('Jeison', 'Araya')\n",
    "    # Parametros por nombre.\n",
    "    saludar(nombre='Jeison',\n",
    "            apellido='Araya',\n",
    "            edad=20)\n",
    "\n",
    "    \n",
    "# Ejemplo de funciones con retorno.\n",
    "\"\"\"\n",
    "if <condicional>:\n",
    "    # Si se cumple.\n",
    "else:\n",
    "    # Sino se cumple.\n",
    "\"\"\"\n",
    "\n",
    "def cruzar_semaforo(color):\n",
    "    if color == 'verde':\n",
    "        return 'Puede continuar.'\n",
    "    \n",
    "    elif color == 'amarillo':\n",
    "        return 'Debe reducir la velocidad.'\n",
    "    \n",
    "    elif color == 'rojo':\n",
    "        return 'Debe detenerse.'\n",
    "    \n",
    "    else:\n",
    "        return 'Color no válido.'\n",
    "\n",
    "def solicitar_color_semaforo():\n",
    "    color = input('Ingrese el color del semáforo: ') \n",
    "    print(cruzar_semaforo(color))\n",
    "    \n",
    "solicitar_color_semaforo()"
   ]
  },
  {
   "cell_type": "markdown",
   "metadata": {},
   "source": [
    "<h3>Funciones con retorno múltiple</h3>"
   ]
  },
  {
   "cell_type": "code",
   "execution_count": 195,
   "metadata": {},
   "outputs": [
    {
     "name": "stdout",
     "output_type": "stream",
     "text": [
      "Hola\n"
     ]
    }
   ],
   "source": [
    "#Ejemplo función y asignación múltiple\n",
    "numero,cadena,lista = 1,\"Hola\",[\"a\",1,\"b\"]\n",
    "\n",
    "def ejemplo():\n",
    "   return numero,cadena,lista \n",
    "print(ejemplo())  #Traer todos los elementos de retorno\n",
    "print(ejemplo()[1]) #Uso de indexación para trer solo 1 de ellos."
   ]
  },
  {
   "cell_type": "markdown",
   "metadata": {},
   "source": [
    "<h3>Estructures cíclicas</h3>"
   ]
  },
  {
   "cell_type": "markdown",
   "metadata": {},
   "source": [
    "# Utilizar la estructura while para implemetar lo siguiente\n",
    "### 1. Mostrar los números del 1 al 10\n",
    "### 2. Solicitar tantos números se deseen y agregarlos a una lista."
   ]
  },
  {
   "cell_type": "code",
   "execution_count": null,
   "metadata": {},
   "outputs": [],
   "source": []
  },
  {
   "cell_type": "markdown",
   "metadata": {},
   "source": [
    "## Tarea: Implementar una función recursiva en Python\n",
    "#### Por ejemplo: Factorial, fibonacci, entre otros."
   ]
  },
  {
   "cell_type": "markdown",
   "metadata": {},
   "source": [
    "<h1>Ejercicios:</h1>\n",
    "<a href=\"https://aprendeconalf.es/docencia/python/ejercicios/funciones/\">Práctica de funciones, con solución</a>"
   ]
  },
  {
   "cell_type": "markdown",
   "metadata": {},
   "source": [
    "##### 📌 Día 3:\n",
    "\n",
    "---"
   ]
  },
  {
   "source": [],
   "cell_type": "markdown",
   "metadata": {}
  },
  {
   "source": [
    "# Clases y Objetos."
   ],
   "cell_type": "markdown",
   "metadata": {}
  },
  {
   "source": [
    "### Ejemplo de clase Estudiante.\n",
    "\n",
    "**Cada estudiante cuenta con los siguientes atributos:**\n",
    "* Carnet. (atributo privado)\n",
    "* Nombre.\n",
    "* Apellidos.\n",
    "* Cursos matriculados.\n",
    "* Cursos aprobados.\n",
    "\n",
    "**Realice las siguientes funciones:**\n",
    "* **matricular_curso(nombre_curso):** \"\"\"Agrega un curso a la lista de cursos matriculados\"\"\"\n",
    "* **curso_aprobado(nombre_curso):** \"\"\"Verifica el curso ya ha sido aprobado, retorna un valor booleano\"\"\"\n",
    "* **curso_matriculado(nombre_curso):** \"\"\"Verifica el curso ya ha sido matriculado, retorna un valor booleano\"\"\"\n",
    "* **finalizar_semestre(cursos_aprobados):** \"\"\"Se agrega el curso a la lista de cursos aprobados y elimina el resto de los cursos matriculados. Los cursos aprobados son opcionales\"\"\"\n",
    "* **__str__(self):** \"\"\"Método para mostrar el objeto como un string. Similar al toString()\"\"\"\n",
    "\n",
    "\n",
    "**Ejemplo del formato para mostrar un objeto Estudiante por consola**\n",
    "\n",
    "Estudiante: Jeison Araya Mena <br>\n",
    "Carnet: B90514 <br>\n",
    "Cursos matriculados: \\[...\\] <br>\n",
    "Cursos aprobados: \\[...\\] <br>"
   ],
   "cell_type": "markdown",
   "metadata": {}
  },
  {
   "source": [
    "\n",
    "class Estudiante:\n",
    "\n",
    "    def __init__(self, carnet, nombre, apellidos, cursos_matriculados=[], cursos_aprobados=[]):\n",
    "        \"\"\"Este es el construtor de la clase Estudiante.\"\"\"\n",
    "        self.__carnet=carnet # Atributo privado.\n",
    "        self.nombre=nombre\n",
    "        self.apellidos=apellidos\n",
    "        self.cursos_matriculados=cursos_matriculados\n",
    "        self.cursos_aprobados=cursos_aprobados\n",
    "\n",
    "    def matricular_curso(self, curso):\n",
    "        \"\"\"Agrega un curso a la lista de cursos matriculados\"\"\"\n",
    "        self.cursos_matriculados.append(curso) # Agrega un curso.\n",
    "\n",
    "    def curso_aprobado(self, curso):\n",
    "        \"\"\"Verifica el curso ya ha sido aprobado, retorna un valor booleano\"\"\"\n",
    "        return curso in self.cursos_aprobados\n",
    "        # return self.cursos_aprobados.count(curso) > 0 Alternativa.\n",
    "\n",
    "    def curso_matriculado(self, curso):\n",
    "        \"\"\"Verifica el curso ya ha sido matriculado, retorna un valor booleano\"\"\"\n",
    "        return curso in self.cursos_matriculados\n",
    "\n",
    "    def finalizar_semestre(self, cursos_aprobados=[]):\n",
    "        \"\"\"\n",
    "        Se agrega el curso a la lista de cursos aprobados y elimina el resto \n",
    "        de los cursos matriculados. Los cursos aprobados son opcionales\n",
    "        \"\"\"\n",
    "        for curso in cursos_aprobados:\n",
    "            if self.curso_matriculado(curso):          # Valida que el curso esté matriculado\n",
    "                self.cursos_aprobados.append(curso)    # Se agrega a lista de cursos aprobados\n",
    "                self.cursos_matriculados.remove(curso) # Se elmina de los cursos matriculados\n",
    "            else:\n",
    "                print('Error: El curso {} no ha sido matriculado.'.format(curso))\n",
    "        self.cursos_matriculados.clear()               # Elimina el resto de cursos\n",
    "\n",
    "    \n",
    "# Crear objeto\n",
    "\n",
    "estudiante = Estudiante(carnet='B90514', \n",
    "                        nombre='Jeison', \n",
    "                        apellidos='Araya Mena', \n",
    "                        cursos_matriculados=['Programación', 'Lógica'])\n",
    "\n",
    "print(estudiante.nombre)\n",
    "\n",
    "# Llamar métodos de un clase.\n",
    "\n",
    "curso = 'Programación'\n",
    "\n",
    "curso_aprobado =  estudiante.curso_aprobado(curso)\n",
    "print('El curso {} ha sido aprobado? {}'.format(curso, curso_aprobado))\n",
    "\n",
    "\n",
    "curso_matriculado = estudiante.curso_matriculado(curso)\n",
    "print('El curso {} ha sido matriculado? {}'.format(curso, curso_matriculado))\n",
    "\n",
    "estudiante.finalizar_semestre(cursos_aprobados=['Programación 2'])\n",
    "\n",
    "print('Cursos matriculados: ', estudiante.cursos_matriculados)\n",
    "print('Cursos aprobados: ', estudiante.cursos_aprobados)\n"
   ],
   "cell_type": "code",
   "metadata": {},
   "execution_count": 47,
   "outputs": [
    {
     "output_type": "stream",
     "name": "stdout",
     "text": [
      "Jeison\nEl curso Programación ha sido aprobado? False\nEl curso Programación ha sido matriculado? True\nError: El curso Programación 2 no ha sido matriculado.\nCursos matriculados:  []\nCursos aprobados:  []\n"
     ]
    }
   ]
  },
  {
   "source": [
    "# Crear aplicaciones gráficas con tkinter. \n",
    " \n",
    "**archivo: login_form.py**"
   ],
   "cell_type": "markdown",
   "metadata": {}
  }
 ],
 "metadata": {
  "kernelspec": {
   "name": "python3",
   "display_name": "Python 3.9.1 64-bit ('venv': venv)",
   "metadata": {
    "interpreter": {
     "hash": "96422a1957dd7671cb4a5408aee314a6d00a5c60ac4564bdd57b5259e48bdeee"
    }
   }
  },
  "language_info": {
   "codemirror_mode": {
    "name": "ipython",
    "version": 3
   },
   "file_extension": ".py",
   "mimetype": "text/x-python",
   "name": "python",
   "nbconvert_exporter": "python",
   "pygments_lexer": "ipython3",
   "version": "3.9.1-final"
  }
 },
 "nbformat": 4,
 "nbformat_minor": 4
}
